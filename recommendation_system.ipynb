{
 "cells": [
  {
   "cell_type": "code",
   "execution_count": 49,
   "metadata": {},
   "outputs": [],
   "source": [
    "import pandas as pd\n",
    "import numpy as np\n",
    "import warnings\n",
    "from bs4 import BeautifulSoup\n",
    "from text_preprocessing import clean_text\n",
    "from sklearn.feature_extraction.text import TfidfVectorizer\n",
    "from sklearn.metrics.pairwise import cosine_similarity\n",
    "warnings.filterwarnings(\"ignore\")"
   ]
  },
  {
   "cell_type": "code",
   "execution_count": 50,
   "metadata": {},
   "outputs": [],
   "source": [
    "df = pd.read_csv(\"Fashion Dataset.csv\")"
   ]
  },
  {
   "cell_type": "code",
   "execution_count": 51,
   "metadata": {},
   "outputs": [
    {
     "data": {
      "text/html": [
       "<div>\n",
       "<style scoped>\n",
       "    .dataframe tbody tr th:only-of-type {\n",
       "        vertical-align: middle;\n",
       "    }\n",
       "\n",
       "    .dataframe tbody tr th {\n",
       "        vertical-align: top;\n",
       "    }\n",
       "\n",
       "    .dataframe thead th {\n",
       "        text-align: right;\n",
       "    }\n",
       "</style>\n",
       "<table border=\"1\" class=\"dataframe\">\n",
       "  <thead>\n",
       "    <tr style=\"text-align: right;\">\n",
       "      <th></th>\n",
       "      <th>Unnamed: 0</th>\n",
       "      <th>p_id</th>\n",
       "      <th>name</th>\n",
       "      <th>price</th>\n",
       "      <th>colour</th>\n",
       "      <th>brand</th>\n",
       "      <th>img</th>\n",
       "      <th>ratingCount</th>\n",
       "      <th>avg_rating</th>\n",
       "      <th>description</th>\n",
       "      <th>p_attributes</th>\n",
       "    </tr>\n",
       "  </thead>\n",
       "  <tbody>\n",
       "    <tr>\n",
       "      <th>0</th>\n",
       "      <td>0</td>\n",
       "      <td>17048614.0</td>\n",
       "      <td>Khushal K Women Black Ethnic Motifs Printed Ku...</td>\n",
       "      <td>5099.0</td>\n",
       "      <td>Black</td>\n",
       "      <td>Khushal K</td>\n",
       "      <td>http://assets.myntassets.com/assets/images/170...</td>\n",
       "      <td>4522.0</td>\n",
       "      <td>4.418399</td>\n",
       "      <td>Black printed Kurta with Palazzos with dupatta...</td>\n",
       "      <td>{'Add-Ons': 'NA', 'Body Shape ID': '443,333,32...</td>\n",
       "    </tr>\n",
       "  </tbody>\n",
       "</table>\n",
       "</div>"
      ],
      "text/plain": [
       "   Unnamed: 0        p_id                                               name  \\\n",
       "0           0  17048614.0  Khushal K Women Black Ethnic Motifs Printed Ku...   \n",
       "\n",
       "    price colour      brand  \\\n",
       "0  5099.0  Black  Khushal K   \n",
       "\n",
       "                                                 img  ratingCount  avg_rating  \\\n",
       "0  http://assets.myntassets.com/assets/images/170...       4522.0    4.418399   \n",
       "\n",
       "                                         description  \\\n",
       "0  Black printed Kurta with Palazzos with dupatta...   \n",
       "\n",
       "                                        p_attributes  \n",
       "0  {'Add-Ons': 'NA', 'Body Shape ID': '443,333,32...  "
      ]
     },
     "execution_count": 51,
     "metadata": {},
     "output_type": "execute_result"
    }
   ],
   "source": [
    "df.head(1)"
   ]
  },
  {
   "cell_type": "code",
   "execution_count": 52,
   "metadata": {},
   "outputs": [
    {
     "data": {
      "text/plain": [
       "Unnamed: 0         0\n",
       "p_id              18\n",
       "name              18\n",
       "price             18\n",
       "colour            21\n",
       "brand             18\n",
       "img               18\n",
       "ratingCount     7749\n",
       "avg_rating      7749\n",
       "description       18\n",
       "p_attributes      18\n",
       "dtype: int64"
      ]
     },
     "execution_count": 52,
     "metadata": {},
     "output_type": "execute_result"
    }
   ],
   "source": [
    "df.isnull().sum()"
   ]
  },
  {
   "cell_type": "code",
   "execution_count": 53,
   "metadata": {},
   "outputs": [
    {
     "data": {
      "text/plain": [
       "(14330, 11)"
      ]
     },
     "execution_count": 53,
     "metadata": {},
     "output_type": "execute_result"
    }
   ],
   "source": [
    "df.shape"
   ]
  },
  {
   "cell_type": "code",
   "execution_count": 54,
   "metadata": {},
   "outputs": [],
   "source": [
    "df.drop([\"ratingCount\", \"avg_rating\", \"p_id\", \"Unnamed: 0\"], axis=1, inplace=True)"
   ]
  },
  {
   "cell_type": "code",
   "execution_count": 55,
   "metadata": {},
   "outputs": [],
   "source": [
    "df.dropna(inplace=True)"
   ]
  },
  {
   "cell_type": "code",
   "execution_count": 56,
   "metadata": {},
   "outputs": [
    {
     "data": {
      "text/plain": [
       "name            0\n",
       "price           0\n",
       "colour          0\n",
       "brand           0\n",
       "img             0\n",
       "description     0\n",
       "p_attributes    0\n",
       "dtype: int64"
      ]
     },
     "execution_count": 56,
     "metadata": {},
     "output_type": "execute_result"
    }
   ],
   "source": [
    "df.isnull().sum()"
   ]
  },
  {
   "cell_type": "code",
   "execution_count": 57,
   "metadata": {},
   "outputs": [
    {
     "data": {
      "text/plain": [
       "(14309, 7)"
      ]
     },
     "execution_count": 57,
     "metadata": {},
     "output_type": "execute_result"
    }
   ],
   "source": [
    "df.shape"
   ]
  },
  {
   "cell_type": "code",
   "execution_count": 58,
   "metadata": {},
   "outputs": [
    {
     "data": {
      "text/plain": [
       "44"
      ]
     },
     "execution_count": 58,
     "metadata": {},
     "output_type": "execute_result"
    }
   ],
   "source": [
    "df.duplicated().sum()"
   ]
  },
  {
   "cell_type": "code",
   "execution_count": 59,
   "metadata": {},
   "outputs": [],
   "source": [
    "df.drop_duplicates(inplace=True)"
   ]
  },
  {
   "cell_type": "code",
   "execution_count": 60,
   "metadata": {},
   "outputs": [
    {
     "data": {
      "text/plain": [
       "0"
      ]
     },
     "execution_count": 60,
     "metadata": {},
     "output_type": "execute_result"
    }
   ],
   "source": [
    "df.duplicated().sum()"
   ]
  },
  {
   "cell_type": "code",
   "execution_count": 61,
   "metadata": {},
   "outputs": [
    {
     "data": {
      "text/html": [
       "<div>\n",
       "<style scoped>\n",
       "    .dataframe tbody tr th:only-of-type {\n",
       "        vertical-align: middle;\n",
       "    }\n",
       "\n",
       "    .dataframe tbody tr th {\n",
       "        vertical-align: top;\n",
       "    }\n",
       "\n",
       "    .dataframe thead th {\n",
       "        text-align: right;\n",
       "    }\n",
       "</style>\n",
       "<table border=\"1\" class=\"dataframe\">\n",
       "  <thead>\n",
       "    <tr style=\"text-align: right;\">\n",
       "      <th></th>\n",
       "      <th>name</th>\n",
       "      <th>price</th>\n",
       "      <th>colour</th>\n",
       "      <th>brand</th>\n",
       "      <th>img</th>\n",
       "      <th>description</th>\n",
       "      <th>p_attributes</th>\n",
       "    </tr>\n",
       "  </thead>\n",
       "  <tbody>\n",
       "    <tr>\n",
       "      <th>2677</th>\n",
       "      <td>Miss Poem Women Grey Light Fade Stretchable Jeans</td>\n",
       "      <td>2799.0</td>\n",
       "      <td>Grey</td>\n",
       "      <td>Miss Poem</td>\n",
       "      <td>http://assets.myntassets.com/assets/images/178...</td>\n",
       "      <td>&lt;ul&gt; &lt;li&gt; Medium shade,  light fade grey jeans...</td>\n",
       "      <td>{'Add-Ons': 'NA', 'Brand Fit Name': 'NA', 'Cha...</td>\n",
       "    </tr>\n",
       "  </tbody>\n",
       "</table>\n",
       "</div>"
      ],
      "text/plain": [
       "                                                   name   price colour  \\\n",
       "2677  Miss Poem Women Grey Light Fade Stretchable Jeans  2799.0   Grey   \n",
       "\n",
       "          brand                                                img  \\\n",
       "2677  Miss Poem  http://assets.myntassets.com/assets/images/178...   \n",
       "\n",
       "                                            description  \\\n",
       "2677  <ul> <li> Medium shade,  light fade grey jeans...   \n",
       "\n",
       "                                           p_attributes  \n",
       "2677  {'Add-Ons': 'NA', 'Brand Fit Name': 'NA', 'Cha...  "
      ]
     },
     "execution_count": 61,
     "metadata": {},
     "output_type": "execute_result"
    }
   ],
   "source": [
    "df.sample()"
   ]
  },
  {
   "cell_type": "code",
   "execution_count": 62,
   "metadata": {},
   "outputs": [],
   "source": [
    "df[\"colour\"] = df[\"colour\"].apply(lambda x: x.replace(\" \", \"\").lower().split())"
   ]
  },
  {
   "cell_type": "code",
   "execution_count": 63,
   "metadata": {},
   "outputs": [
    {
     "data": {
      "text/html": [
       "<div>\n",
       "<style scoped>\n",
       "    .dataframe tbody tr th:only-of-type {\n",
       "        vertical-align: middle;\n",
       "    }\n",
       "\n",
       "    .dataframe tbody tr th {\n",
       "        vertical-align: top;\n",
       "    }\n",
       "\n",
       "    .dataframe thead th {\n",
       "        text-align: right;\n",
       "    }\n",
       "</style>\n",
       "<table border=\"1\" class=\"dataframe\">\n",
       "  <thead>\n",
       "    <tr style=\"text-align: right;\">\n",
       "      <th></th>\n",
       "      <th>name</th>\n",
       "      <th>price</th>\n",
       "      <th>colour</th>\n",
       "      <th>brand</th>\n",
       "      <th>img</th>\n",
       "      <th>description</th>\n",
       "      <th>p_attributes</th>\n",
       "    </tr>\n",
       "  </thead>\n",
       "  <tbody>\n",
       "    <tr>\n",
       "      <th>9882</th>\n",
       "      <td>Anouk Pink &amp; Blue Pure Cotton Printed Ready to...</td>\n",
       "      <td>4599.0</td>\n",
       "      <td>[pink]</td>\n",
       "      <td>Anouk</td>\n",
       "      <td>http://assets.myntassets.com/assets/images/183...</td>\n",
       "      <td>Pink and blue printed lehenga choli with dupat...</td>\n",
       "      <td>{'Blouse Closure': 'NA', 'Blouse Fabric': 'Cot...</td>\n",
       "    </tr>\n",
       "  </tbody>\n",
       "</table>\n",
       "</div>"
      ],
      "text/plain": [
       "                                                   name   price  colour  \\\n",
       "9882  Anouk Pink & Blue Pure Cotton Printed Ready to...  4599.0  [pink]   \n",
       "\n",
       "      brand                                                img  \\\n",
       "9882  Anouk  http://assets.myntassets.com/assets/images/183...   \n",
       "\n",
       "                                            description  \\\n",
       "9882  Pink and blue printed lehenga choli with dupat...   \n",
       "\n",
       "                                           p_attributes  \n",
       "9882  {'Blouse Closure': 'NA', 'Blouse Fabric': 'Cot...  "
      ]
     },
     "execution_count": 63,
     "metadata": {},
     "output_type": "execute_result"
    }
   ],
   "source": [
    "df.sample()"
   ]
  },
  {
   "cell_type": "code",
   "execution_count": 64,
   "metadata": {},
   "outputs": [],
   "source": [
    "df[\"brand\"] = df[\"brand\"].apply(lambda x: x.replace(\" \", \"\").lower().split())"
   ]
  },
  {
   "cell_type": "code",
   "execution_count": 65,
   "metadata": {},
   "outputs": [
    {
     "data": {
      "text/html": [
       "<div>\n",
       "<style scoped>\n",
       "    .dataframe tbody tr th:only-of-type {\n",
       "        vertical-align: middle;\n",
       "    }\n",
       "\n",
       "    .dataframe tbody tr th {\n",
       "        vertical-align: top;\n",
       "    }\n",
       "\n",
       "    .dataframe thead th {\n",
       "        text-align: right;\n",
       "    }\n",
       "</style>\n",
       "<table border=\"1\" class=\"dataframe\">\n",
       "  <thead>\n",
       "    <tr style=\"text-align: right;\">\n",
       "      <th></th>\n",
       "      <th>name</th>\n",
       "      <th>price</th>\n",
       "      <th>colour</th>\n",
       "      <th>brand</th>\n",
       "      <th>img</th>\n",
       "      <th>description</th>\n",
       "      <th>p_attributes</th>\n",
       "    </tr>\n",
       "  </thead>\n",
       "  <tbody>\n",
       "    <tr>\n",
       "      <th>5108</th>\n",
       "      <td>V-Mart Girls Navy Blue &amp; Gold Printed Skirts</td>\n",
       "      <td>700.0</td>\n",
       "      <td>[navyblue]</td>\n",
       "      <td>[v-mart]</td>\n",
       "      <td>http://assets.myntassets.com/assets/images/192...</td>\n",
       "      <td>&lt;p&gt;Navy Blue coloured printed flared midi skir...</td>\n",
       "      <td>{'Add-Ons': 'NA', 'Body or Garment Size': 'To-...</td>\n",
       "    </tr>\n",
       "  </tbody>\n",
       "</table>\n",
       "</div>"
      ],
      "text/plain": [
       "                                              name  price      colour  \\\n",
       "5108  V-Mart Girls Navy Blue & Gold Printed Skirts  700.0  [navyblue]   \n",
       "\n",
       "         brand                                                img  \\\n",
       "5108  [v-mart]  http://assets.myntassets.com/assets/images/192...   \n",
       "\n",
       "                                            description  \\\n",
       "5108  <p>Navy Blue coloured printed flared midi skir...   \n",
       "\n",
       "                                           p_attributes  \n",
       "5108  {'Add-Ons': 'NA', 'Body or Garment Size': 'To-...  "
      ]
     },
     "execution_count": 65,
     "metadata": {},
     "output_type": "execute_result"
    }
   ],
   "source": [
    "df.sample()"
   ]
  },
  {
   "cell_type": "code",
   "execution_count": 66,
   "metadata": {},
   "outputs": [],
   "source": [
    "def formatting_description(text):\n",
    "    text = BeautifulSoup(text, \"html.parser\").get_text()\n",
    "    return text.lower().split()"
   ]
  },
  {
   "cell_type": "code",
   "execution_count": 67,
   "metadata": {},
   "outputs": [],
   "source": [
    "df[\"description\"] = df[\"description\"].apply(formatting_description)"
   ]
  },
  {
   "cell_type": "code",
   "execution_count": 68,
   "metadata": {},
   "outputs": [
    {
     "data": {
      "text/html": [
       "<div>\n",
       "<style scoped>\n",
       "    .dataframe tbody tr th:only-of-type {\n",
       "        vertical-align: middle;\n",
       "    }\n",
       "\n",
       "    .dataframe tbody tr th {\n",
       "        vertical-align: top;\n",
       "    }\n",
       "\n",
       "    .dataframe thead th {\n",
       "        text-align: right;\n",
       "    }\n",
       "</style>\n",
       "<table border=\"1\" class=\"dataframe\">\n",
       "  <thead>\n",
       "    <tr style=\"text-align: right;\">\n",
       "      <th></th>\n",
       "      <th>name</th>\n",
       "      <th>price</th>\n",
       "      <th>colour</th>\n",
       "      <th>brand</th>\n",
       "      <th>img</th>\n",
       "      <th>description</th>\n",
       "      <th>p_attributes</th>\n",
       "    </tr>\n",
       "  </thead>\n",
       "  <tbody>\n",
       "    <tr>\n",
       "      <th>5358</th>\n",
       "      <td>Juniper Women Navy Blue Printed Flared Palazzos</td>\n",
       "      <td>1799.0</td>\n",
       "      <td>[navyblue]</td>\n",
       "      <td>[juniper]</td>\n",
       "      <td>http://assets.myntassets.com/assets/images/123...</td>\n",
       "      <td>[a, pair, of, navy, blue, printed, woven, flar...</td>\n",
       "      <td>{'Body or Garment Size': 'To-Fit Denotes Body ...</td>\n",
       "    </tr>\n",
       "  </tbody>\n",
       "</table>\n",
       "</div>"
      ],
      "text/plain": [
       "                                                 name   price      colour  \\\n",
       "5358  Juniper Women Navy Blue Printed Flared Palazzos  1799.0  [navyblue]   \n",
       "\n",
       "          brand                                                img  \\\n",
       "5358  [juniper]  http://assets.myntassets.com/assets/images/123...   \n",
       "\n",
       "                                            description  \\\n",
       "5358  [a, pair, of, navy, blue, printed, woven, flar...   \n",
       "\n",
       "                                           p_attributes  \n",
       "5358  {'Body or Garment Size': 'To-Fit Denotes Body ...  "
      ]
     },
     "execution_count": 68,
     "metadata": {},
     "output_type": "execute_result"
    }
   ],
   "source": [
    "df.sample()"
   ]
  },
  {
   "cell_type": "code",
   "execution_count": 69,
   "metadata": {},
   "outputs": [],
   "source": [
    "def formatting_p_attributes(text):\n",
    "    attributes = eval(text)\n",
    "    extracted_attributes = []\n",
    "    if \"Top Fabric\" in attributes:\n",
    "        extracted_attributes.append(attributes[\"Top Fabric\"].replace(\" \", \"\").lower())\n",
    "    if \"Occasion\" in attributes:\n",
    "        extracted_attributes.append(attributes[\"Occasion\"].replace(\" \", \"\").lower())\n",
    "    if \"Sustainable\" in attributes:\n",
    "        extracted_attributes.append(attributes[\"Sustainable\"].replace(\" \", \"\").lower())\n",
    "    if \"Wash Care\" in attributes:\n",
    "        extracted_attributes.append(attributes[\"Wash Care\"].replace(\" \", \"\").lower())\n",
    "    if \"Top Pattern\" in attributes:\n",
    "        extracted_attributes.append(attributes[\"Top Pattern\"].replace(\" \", \"\").lower())\n",
    "    if \"Top Shape\" in attributes:\n",
    "        extracted_attributes.append(attributes[\"Top Shape\"].replace(\" \", \"\").lower())\n",
    "    if \"Top Type\" in attributes:\n",
    "        extracted_attributes.append(attributes[\"Top Type\"].replace(\" \", \"\").lower())\n",
    "    if \"Bottom Pattern\" in attributes:\n",
    "        extracted_attributes.append(\n",
    "            attributes[\"Bottom Pattern\"].replace(\" \", \"\").lower()\n",
    "        )\n",
    "\n",
    "    if \"Bottom Type\" in attributes:\n",
    "        extracted_attributes.append(attributes[\"Bottom Type\"].replace(\" \", \"\").lower())\n",
    "    if \"Bottom Closure\" in attributes:\n",
    "        extracted_attributes.append(\n",
    "            attributes[\"Bottom Closure\"].replace(\" \", \"\").lower()\n",
    "        )\n",
    "\n",
    "    return extracted_attributes"
   ]
  },
  {
   "cell_type": "code",
   "execution_count": 70,
   "metadata": {},
   "outputs": [],
   "source": [
    "df['p_attributes']=df['p_attributes'].apply(formatting_p_attributes)"
   ]
  },
  {
   "cell_type": "code",
   "execution_count": 71,
   "metadata": {},
   "outputs": [
    {
     "data": {
      "text/html": [
       "<div>\n",
       "<style scoped>\n",
       "    .dataframe tbody tr th:only-of-type {\n",
       "        vertical-align: middle;\n",
       "    }\n",
       "\n",
       "    .dataframe tbody tr th {\n",
       "        vertical-align: top;\n",
       "    }\n",
       "\n",
       "    .dataframe thead th {\n",
       "        text-align: right;\n",
       "    }\n",
       "</style>\n",
       "<table border=\"1\" class=\"dataframe\">\n",
       "  <thead>\n",
       "    <tr style=\"text-align: right;\">\n",
       "      <th></th>\n",
       "      <th>name</th>\n",
       "      <th>price</th>\n",
       "      <th>colour</th>\n",
       "      <th>brand</th>\n",
       "      <th>img</th>\n",
       "      <th>description</th>\n",
       "      <th>p_attributes</th>\n",
       "    </tr>\n",
       "  </thead>\n",
       "  <tbody>\n",
       "    <tr>\n",
       "      <th>7389</th>\n",
       "      <td>Yufta Women White &amp; Grey Printed Tunic with Pa...</td>\n",
       "      <td>1699.0</td>\n",
       "      <td>[white]</td>\n",
       "      <td>[yufta]</td>\n",
       "      <td>http://assets.myntassets.com/assets/images/709...</td>\n",
       "      <td>[this, co-ords, set, consists, of, tunic, and,...</td>\n",
       "      <td>[purecotton, casual, regular, machinewash, sol...</td>\n",
       "    </tr>\n",
       "  </tbody>\n",
       "</table>\n",
       "</div>"
      ],
      "text/plain": [
       "                                                   name   price   colour  \\\n",
       "7389  Yufta Women White & Grey Printed Tunic with Pa...  1699.0  [white]   \n",
       "\n",
       "        brand                                                img  \\\n",
       "7389  [yufta]  http://assets.myntassets.com/assets/images/709...   \n",
       "\n",
       "                                            description  \\\n",
       "7389  [this, co-ords, set, consists, of, tunic, and,...   \n",
       "\n",
       "                                           p_attributes  \n",
       "7389  [purecotton, casual, regular, machinewash, sol...  "
      ]
     },
     "execution_count": 71,
     "metadata": {},
     "output_type": "execute_result"
    }
   ],
   "source": [
    "df.sample(1)"
   ]
  },
  {
   "cell_type": "code",
   "execution_count": 72,
   "metadata": {},
   "outputs": [],
   "source": [
    "def formatting_price(text):\n",
    "    price_class = []\n",
    "    if text <= 1000:\n",
    "        price_class.append('priceveryaffordable')\n",
    "    elif 1000 < text <= 3000:\n",
    "        price_class.append('priceaffordable')\n",
    "    elif 3000 < text <= 6000:\n",
    "        price_class.append('pricemoderate')\n",
    "    elif 6000 < text <= 9000:\n",
    "        price_class.append('priceexpensive')\n",
    "    else:\n",
    "        price_class.append('priceveryexpensive')\n",
    "    return price_class\n"
   ]
  },
  {
   "cell_type": "code",
   "execution_count": 73,
   "metadata": {},
   "outputs": [],
   "source": [
    "df['price']=df['price'].apply(formatting_price)"
   ]
  },
  {
   "cell_type": "markdown",
   "metadata": {},
   "source": [
    "Creating Tag"
   ]
  },
  {
   "cell_type": "code",
   "execution_count": 74,
   "metadata": {},
   "outputs": [],
   "source": [
    "df['tag']=df['brand']+df['description']+df['colour']+df['p_attributes']+df['price']"
   ]
  },
  {
   "cell_type": "code",
   "execution_count": 75,
   "metadata": {},
   "outputs": [
    {
     "data": {
      "text/html": [
       "<div>\n",
       "<style scoped>\n",
       "    .dataframe tbody tr th:only-of-type {\n",
       "        vertical-align: middle;\n",
       "    }\n",
       "\n",
       "    .dataframe tbody tr th {\n",
       "        vertical-align: top;\n",
       "    }\n",
       "\n",
       "    .dataframe thead th {\n",
       "        text-align: right;\n",
       "    }\n",
       "</style>\n",
       "<table border=\"1\" class=\"dataframe\">\n",
       "  <thead>\n",
       "    <tr style=\"text-align: right;\">\n",
       "      <th></th>\n",
       "      <th>name</th>\n",
       "      <th>price</th>\n",
       "      <th>colour</th>\n",
       "      <th>brand</th>\n",
       "      <th>img</th>\n",
       "      <th>description</th>\n",
       "      <th>p_attributes</th>\n",
       "      <th>tag</th>\n",
       "    </tr>\n",
       "  </thead>\n",
       "  <tbody>\n",
       "    <tr>\n",
       "      <th>0</th>\n",
       "      <td>Khushal K Women Black Ethnic Motifs Printed Ku...</td>\n",
       "      <td>[pricemoderate]</td>\n",
       "      <td>[black]</td>\n",
       "      <td>[khushalk]</td>\n",
       "      <td>http://assets.myntassets.com/assets/images/170...</td>\n",
       "      <td>[black, printed, kurta, with, palazzos, with, ...</td>\n",
       "      <td>[viscoserayon, festive, regular, machinewash, ...</td>\n",
       "      <td>[khushalk, black, printed, kurta, with, palazz...</td>\n",
       "    </tr>\n",
       "  </tbody>\n",
       "</table>\n",
       "</div>"
      ],
      "text/plain": [
       "                                                name            price  \\\n",
       "0  Khushal K Women Black Ethnic Motifs Printed Ku...  [pricemoderate]   \n",
       "\n",
       "    colour       brand                                                img  \\\n",
       "0  [black]  [khushalk]  http://assets.myntassets.com/assets/images/170...   \n",
       "\n",
       "                                         description  \\\n",
       "0  [black, printed, kurta, with, palazzos, with, ...   \n",
       "\n",
       "                                        p_attributes  \\\n",
       "0  [viscoserayon, festive, regular, machinewash, ...   \n",
       "\n",
       "                                                 tag  \n",
       "0  [khushalk, black, printed, kurta, with, palazz...  "
      ]
     },
     "execution_count": 75,
     "metadata": {},
     "output_type": "execute_result"
    }
   ],
   "source": [
    "df.head(1)"
   ]
  },
  {
   "cell_type": "code",
   "execution_count": 76,
   "metadata": {},
   "outputs": [],
   "source": [
    "df['tag']=df['tag'].apply(lambda x:\" \".join(x))"
   ]
  },
  {
   "cell_type": "code",
   "execution_count": 77,
   "metadata": {},
   "outputs": [],
   "source": [
    "new_df = df[['name', 'tag']]"
   ]
  },
  {
   "cell_type": "code",
   "execution_count": 78,
   "metadata": {},
   "outputs": [
    {
     "data": {
      "text/html": [
       "<div>\n",
       "<style scoped>\n",
       "    .dataframe tbody tr th:only-of-type {\n",
       "        vertical-align: middle;\n",
       "    }\n",
       "\n",
       "    .dataframe tbody tr th {\n",
       "        vertical-align: top;\n",
       "    }\n",
       "\n",
       "    .dataframe thead th {\n",
       "        text-align: right;\n",
       "    }\n",
       "</style>\n",
       "<table border=\"1\" class=\"dataframe\">\n",
       "  <thead>\n",
       "    <tr style=\"text-align: right;\">\n",
       "      <th></th>\n",
       "      <th>name</th>\n",
       "      <th>tag</th>\n",
       "    </tr>\n",
       "  </thead>\n",
       "  <tbody>\n",
       "    <tr>\n",
       "      <th>10734</th>\n",
       "      <td>Xenilla Pink &amp; Blue Embroidered Semi-Stitched ...</td>\n",
       "      <td>xenilla pink and blue embroidered lehenga chol...</td>\n",
       "    </tr>\n",
       "  </tbody>\n",
       "</table>\n",
       "</div>"
      ],
      "text/plain": [
       "                                                    name  \\\n",
       "10734  Xenilla Pink & Blue Embroidered Semi-Stitched ...   \n",
       "\n",
       "                                                     tag  \n",
       "10734  xenilla pink and blue embroidered lehenga chol...  "
      ]
     },
     "execution_count": 78,
     "metadata": {},
     "output_type": "execute_result"
    }
   ],
   "source": [
    "new_df.sample()"
   ]
  },
  {
   "cell_type": "code",
   "execution_count": 79,
   "metadata": {},
   "outputs": [
    {
     "data": {
      "text/plain": [
       "\"khushalk black printed kurta with palazzos with dupatta kurta design: ethnic motifs printed anarkali shape regular style mandarin collar, three-quarter regular sleeves calf length with flared hem viscose rayon machine weave fabric palazzos design: printed palazzos elasticated waistband slip-on closure dupatta length 2.43 meters width: 88 cmthe model (height 5'8) is wearing a size s100% rayonmachine wash black viscoserayon festive regular machinewash printed anarkali kurta printed palazzos slip-on pricemoderate\""
      ]
     },
     "execution_count": 79,
     "metadata": {},
     "output_type": "execute_result"
    }
   ],
   "source": [
    "new_df['tag'][0]"
   ]
  },
  {
   "cell_type": "code",
   "execution_count": 80,
   "metadata": {},
   "outputs": [
    {
     "name": "stdout",
     "output_type": "stream",
     "text": [
      "\n",
      "=== Cleaning Process ===\n",
      "\n",
      "⬇️ Removing HTML Tags ⬇️\n",
      "\n",
      "⬇️ Lowercasing Text ⬇️\n",
      "\n",
      "⬇️ Removing Punctuation ⬇️\n",
      "\n",
      "⬇️ Removing Numbers ⬇️\n",
      "\n",
      "⬇️ Removing Whitespace ⬇️\n",
      "\n",
      "⬇️ Removing Stopwords ⬇️\n",
      "\n",
      "⬇️ Stemming Words ⬇️\n",
      "\n",
      "=== Cleaning Completed ===\n",
      "\n"
     ]
    }
   ],
   "source": [
    "new_df['tag']=clean_text(new_df,'tag')['tag']"
   ]
  },
  {
   "cell_type": "code",
   "execution_count": 81,
   "metadata": {},
   "outputs": [
    {
     "data": {
      "text/plain": [
       "'khushalk black print kurta with palazzo with dupatta kurta design ethnic motif print anarkali shape regular style mandarin collar threequart regular sleev calf length with flare hem viscos rayon machin weav fabric palazzo design print palazzo elast waistband slipon closur dupatta length meter width cmthe model height is wear a size s rayonmachin wash black viscoserayon festiv regular machinewash print anarkali kurta print palazzo slipon pricemoder'"
      ]
     },
     "execution_count": 81,
     "metadata": {},
     "output_type": "execute_result"
    }
   ],
   "source": [
    "new_df['tag'].iloc[0]"
   ]
  },
  {
   "cell_type": "markdown",
   "metadata": {},
   "source": [
    "Word to Vector using TF-IDF (Term Frequency-Inverse Document Frequency)"
   ]
  },
  {
   "cell_type": "code",
   "execution_count": 82,
   "metadata": {},
   "outputs": [],
   "source": [
    "tfidf = TfidfVectorizer(max_features=5000)"
   ]
  },
  {
   "cell_type": "code",
   "execution_count": 83,
   "metadata": {},
   "outputs": [],
   "source": [
    "tfidf_matrix = tfidf.fit_transform(new_df['tag'])"
   ]
  },
  {
   "cell_type": "code",
   "execution_count": 84,
   "metadata": {},
   "outputs": [
    {
     "data": {
      "text/plain": [
       "(14265, 5000)"
      ]
     },
     "execution_count": 84,
     "metadata": {},
     "output_type": "execute_result"
    }
   ],
   "source": [
    "tfidf_matrix.shape"
   ]
  },
  {
   "cell_type": "code",
   "execution_count": 85,
   "metadata": {},
   "outputs": [
    {
     "data": {
      "text/plain": [
       "array(['aahwan', 'aari', 'aarika', ..., 'zivam', 'ziyaa', 'zola'],\n",
       "      dtype=object)"
      ]
     },
     "execution_count": 85,
     "metadata": {},
     "output_type": "execute_result"
    }
   ],
   "source": [
    "tfidf.get_feature_names_out()"
   ]
  },
  {
   "cell_type": "code",
   "execution_count": 86,
   "metadata": {},
   "outputs": [],
   "source": [
    "similarity = cosine_similarity(tfidf_matrix,tfidf_matrix)"
   ]
  },
  {
   "cell_type": "code",
   "execution_count": 87,
   "metadata": {},
   "outputs": [
    {
     "data": {
      "text/plain": [
       "(14265, 14265)"
      ]
     },
     "execution_count": 87,
     "metadata": {},
     "output_type": "execute_result"
    }
   ],
   "source": [
    "similarity.shape"
   ]
  },
  {
   "cell_type": "code",
   "execution_count": 93,
   "metadata": {},
   "outputs": [],
   "source": [
    "def recommend(name):\n",
    "    index = df[df[\"name\"] == name].index[0]\n",
    "    similar = sorted(\n",
    "        list(enumerate(similarity[index])), reverse=True, key=lambda x: x[1]\n",
    "    )[1:6]\n",
    "    recommend_list = []\n",
    "    for s in similar:\n",
    "        recommend_list.append([df[\"name\"].iloc[s[0]], df[\"img\"].iloc[s[0]]])\n",
    "\n",
    "    return recommend_list\n"
   ]
  },
  {
   "cell_type": "code",
   "execution_count": 94,
   "metadata": {},
   "outputs": [
    {
     "data": {
      "text/plain": [
       "'Khushal K Women Black Ethnic Motifs Printed Kurta with Palazzos & With Dupatta'"
      ]
     },
     "execution_count": 94,
     "metadata": {},
     "output_type": "execute_result"
    }
   ],
   "source": [
    "df['name'].iloc[0]"
   ]
  },
  {
   "cell_type": "code",
   "execution_count": 95,
   "metadata": {},
   "outputs": [
    {
     "data": {
      "text/plain": [
       "[['Khushal K Women White Ethnic Motifs Printed Gotta Patti Kurta with Palazzos & With Dupatta',\n",
       "  'http://assets.myntassets.com/assets/images/17447640/2022/3/9/32d8a19f-bbbc-4938-b05c-612b760831c51646798656702KhushalKWomenWhiteEmbroideredLayeredGottaPattiKurtiwithPalaz1.jpg'],\n",
       " ['mirari Women Green Floral Printed Pure Cotton Kurta with Palazzos',\n",
       "  'http://assets.myntassets.com/assets/images/18765612/2022/6/17/fe143871-ed3f-4e70-9cb7-3cd683202dc51655464222268MIRARIGreenPrintedKurtaWithPalazzoSet1.jpg'],\n",
       " ['Ishin Women Red Floral Embroidered Regular Gotta Patti Pure Cotton Kurta with Palazzos & With Dupatta',\n",
       "  'http://assets.myntassets.com/assets/images/15535314/2021/11/26/d32d9fc9-bcb9-4065-bc4b-453d6c799a2c1637929961158IshinWomensRedEmbroideredGottaPattiAnarkaliKurtaWithPalazzoD1.jpg'],\n",
       " ['Vishudh Women Blue Floral Printed Kurta with Palazzos & With Dupatta',\n",
       "  'http://assets.myntassets.com/assets/images/18261878/2022/5/16/daa3c330-ef9d-4470-858e-ad9968076d621652657917110VishudhWomenGreyPrintedEmpireKurtiwithTrousersWithDupatta1.jpg'],\n",
       " ['MABISH by Sonal Jain Women Rust Ethnic Motifs Printed Regular Kurta with Palazzos',\n",
       "  'http://assets.myntassets.com/assets/images/15494618/2021/9/30/f624bcbe-1f38-409d-9b00-5f037ef20a921632985805929-MABISH-by-Sonal-Jain-Women-Kurta-Sets-9461632985805144-1.jpg']]"
      ]
     },
     "execution_count": 95,
     "metadata": {},
     "output_type": "execute_result"
    }
   ],
   "source": [
    "recommend('Khushal K Women Black Ethnic Motifs Printed Kurta with Palazzos & With Dupatta')"
   ]
  },
  {
   "cell_type": "code",
   "execution_count": 91,
   "metadata": {},
   "outputs": [],
   "source": [
    "import pickle"
   ]
  },
  {
   "cell_type": "code",
   "execution_count": 92,
   "metadata": {},
   "outputs": [],
   "source": [
    "with open('df.pkl', 'wb') as f:\n",
    "    pickle.dump(df, f)\n",
    "\n",
    "with open('similarity.pkl', 'wb') as f:\n",
    "    pickle.dump(similarity, f)\n",
    "\n",
    "with open('tfidf.pkl', 'wb') as f:\n",
    "    pickle.dump(tfidf, f)"
   ]
  },
  {
   "cell_type": "code",
   "execution_count": null,
   "metadata": {},
   "outputs": [],
   "source": []
  }
 ],
 "metadata": {
  "kernelspec": {
   "display_name": "Python 3 (ipykernel)",
   "language": "python",
   "name": "python3"
  },
  "language_info": {
   "codemirror_mode": {
    "name": "ipython",
    "version": 3
   },
   "file_extension": ".py",
   "mimetype": "text/x-python",
   "name": "python",
   "nbconvert_exporter": "python",
   "pygments_lexer": "ipython3",
   "version": "3.11.4"
  }
 },
 "nbformat": 4,
 "nbformat_minor": 2
}
